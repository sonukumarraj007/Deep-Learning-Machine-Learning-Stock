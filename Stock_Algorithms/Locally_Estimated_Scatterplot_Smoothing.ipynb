{
  "cells": [
    {
      "cell_type": "markdown",
      "source": [
        "# Locally Estimated Scatterplot Smoothing (LOESS)"
      ],
      "metadata": {}
    },
    {
      "cell_type": "markdown",
      "source": [
        "Loess s a non-parametric regression method that combines multiple regression models in a k-nearest-neighbor-based meta-model."
      ],
      "metadata": {
        "nteract": {
          "transient": {
            "deleting": false
          }
        }
      }
    },
    {
      "cell_type": "code",
      "source": [
        "import numpy as np\n",
        "import pandas as pd\n",
        "import matplotlib.pyplot as plt\n",
        "\n",
        "import warnings\n",
        "warnings.filterwarnings(\"ignore\")\n",
        "\n",
        "# yfinance is used to fetch data \n",
        "import yfinance as yf\n",
        "yf.pdr_override()"
      ],
      "outputs": [],
      "execution_count": 1,
      "metadata": {
        "collapsed": false,
        "outputHidden": false,
        "inputHidden": false,
        "execution": {
          "iopub.status.busy": "2021-02-02T02:04:00.840Z",
          "iopub.execute_input": "2021-02-02T02:04:00.867Z",
          "iopub.status.idle": "2021-02-02T02:04:07.509Z",
          "shell.execute_reply": "2021-02-02T02:04:07.487Z"
        }
      }
    },
    {
      "cell_type": "code",
      "source": [
        "# input\n",
        "symbol = 'AMD'\n",
        "start = '2014-01-01'\n",
        "end = '2018-08-27'\n",
        "\n",
        "# Read data \n",
        "dataset = yf.download(symbol,start,end)\n",
        "\n",
        "# View Columns\n",
        "dataset.head()"
      ],
      "outputs": [
        {
          "output_type": "stream",
          "name": "stdout",
          "text": [
            "[*********************100%***********************]  1 of 1 completed\n"
          ]
        },
        {
          "output_type": "execute_result",
          "execution_count": 2,
          "data": {
            "text/plain": "            Open  High   Low  Close  Adj Close    Volume\nDate                                                    \n2014-01-02  3.85  3.98  3.84   3.95       3.95  20548400\n2014-01-03  3.98  4.00  3.88   4.00       4.00  22887200\n2014-01-06  4.01  4.18  3.99   4.13       4.13  42398300\n2014-01-07  4.19  4.25  4.11   4.18       4.18  42932100\n2014-01-08  4.23  4.26  4.14   4.18       4.18  30678700",
            "text/html": "<div>\n<style scoped>\n    .dataframe tbody tr th:only-of-type {\n        vertical-align: middle;\n    }\n\n    .dataframe tbody tr th {\n        vertical-align: top;\n    }\n\n    .dataframe thead th {\n        text-align: right;\n    }\n</style>\n<table border=\"1\" class=\"dataframe\">\n  <thead>\n    <tr style=\"text-align: right;\">\n      <th></th>\n      <th>Open</th>\n      <th>High</th>\n      <th>Low</th>\n      <th>Close</th>\n      <th>Adj Close</th>\n      <th>Volume</th>\n    </tr>\n    <tr>\n      <th>Date</th>\n      <th></th>\n      <th></th>\n      <th></th>\n      <th></th>\n      <th></th>\n      <th></th>\n    </tr>\n  </thead>\n  <tbody>\n    <tr>\n      <th>2014-01-02</th>\n      <td>3.85</td>\n      <td>3.98</td>\n      <td>3.84</td>\n      <td>3.95</td>\n      <td>3.95</td>\n      <td>20548400</td>\n    </tr>\n    <tr>\n      <th>2014-01-03</th>\n      <td>3.98</td>\n      <td>4.00</td>\n      <td>3.88</td>\n      <td>4.00</td>\n      <td>4.00</td>\n      <td>22887200</td>\n    </tr>\n    <tr>\n      <th>2014-01-06</th>\n      <td>4.01</td>\n      <td>4.18</td>\n      <td>3.99</td>\n      <td>4.13</td>\n      <td>4.13</td>\n      <td>42398300</td>\n    </tr>\n    <tr>\n      <th>2014-01-07</th>\n      <td>4.19</td>\n      <td>4.25</td>\n      <td>4.11</td>\n      <td>4.18</td>\n      <td>4.18</td>\n      <td>42932100</td>\n    </tr>\n    <tr>\n      <th>2014-01-08</th>\n      <td>4.23</td>\n      <td>4.26</td>\n      <td>4.14</td>\n      <td>4.18</td>\n      <td>4.18</td>\n      <td>30678700</td>\n    </tr>\n  </tbody>\n</table>\n</div>"
          },
          "metadata": {}
        }
      ],
      "execution_count": 2,
      "metadata": {
        "collapsed": false,
        "outputHidden": false,
        "inputHidden": false,
        "execution": {
          "iopub.status.busy": "2021-02-02T02:04:07.531Z",
          "iopub.execute_input": "2021-02-02T02:04:07.547Z",
          "iopub.status.idle": "2021-02-02T02:04:10.158Z",
          "shell.execute_reply": "2021-02-02T02:04:10.389Z"
        }
      }
    },
    {
      "cell_type": "code",
      "source": [
        "\n",
        "import scipy.stats as stats\n",
        "import statsmodels.api as sm\n",
        "\n",
        "lowess = sm.nonparametric.lowess"
      ],
      "outputs": [],
      "execution_count": 3,
      "metadata": {
        "collapsed": true,
        "jupyter": {
          "source_hidden": false,
          "outputs_hidden": false
        },
        "nteract": {
          "transient": {
            "deleting": false
          }
        },
        "execution": {
          "iopub.status.busy": "2021-02-02T02:04:10.199Z",
          "iopub.execute_input": "2021-02-02T02:04:10.257Z",
          "iopub.status.idle": "2021-02-02T02:04:16.189Z",
          "shell.execute_reply": "2021-02-02T02:04:16.364Z"
        }
      }
    },
    {
      "cell_type": "code",
      "source": [
        "x = dataset['Adj Close']\n",
        "y = np.sin(x) + stats.cauchy.rvs(size=len(x))\n",
        "z = lowess(y, x, frac= 1./3, it=0)\n",
        "w = lowess(y, x, frac=1./3)"
      ],
      "outputs": [],
      "execution_count": 4,
      "metadata": {
        "collapsed": true,
        "jupyter": {
          "source_hidden": false,
          "outputs_hidden": false
        },
        "nteract": {
          "transient": {
            "deleting": false
          }
        },
        "execution": {
          "iopub.status.busy": "2021-02-02T02:04:16.223Z",
          "iopub.execute_input": "2021-02-02T02:04:16.262Z",
          "iopub.status.idle": "2021-02-02T02:04:18.289Z",
          "shell.execute_reply": "2021-02-02T02:04:19.332Z"
        }
      }
    },
    {
      "cell_type": "code",
      "source": [
        "import scipy"
      ],
      "outputs": [],
      "execution_count": 5,
      "metadata": {
        "collapsed": true,
        "jupyter": {
          "source_hidden": false,
          "outputs_hidden": false
        },
        "nteract": {
          "transient": {
            "deleting": false
          }
        },
        "execution": {
          "iopub.status.busy": "2021-02-02T02:04:18.347Z",
          "iopub.execute_input": "2021-02-02T02:04:18.375Z",
          "iopub.status.idle": "2021-02-02T02:04:18.426Z",
          "shell.execute_reply": "2021-02-02T02:04:19.384Z"
        }
      }
    },
    {
      "cell_type": "code",
      "source": [
        "# http://www.jtrive.com/loess-nonparametric-scatterplot-smoothing-in-python.html\n",
        "\n",
        "def loc_eval(x, b):\n",
        "    \"\"\"\n",
        "    Evaluate `x` using locally-weighted regression parameters.\n",
        "    Degree of polynomial used in loess is inferred from b. `x`\n",
        "    is assumed to be a scalar.\n",
        "    \"\"\"\n",
        "    loc_est = 0\n",
        "    for i in enumerate(b): loc_est+=i[1]*(x**i[0])\n",
        "    return(loc_est)\n",
        "\n",
        "\n",
        "\n",
        "def loess(xvals, yvals, alpha, poly_degree=1):\n",
        "    \"\"\"\n",
        "    Perform locally-weighted regression on xvals & yvals.\n",
        "    Variables used inside `loess` function:\n",
        "\n",
        "        n         => number of data points in xvals\n",
        "        m         => nbr of LOESS evaluation points\n",
        "        q         => number of data points used for each\n",
        "                     locally-weighted regression\n",
        "        v         => x-value locations for evaluating LOESS\n",
        "        locsDF    => contains local regression details for each\n",
        "                     location v\n",
        "        evalDF    => contains actual LOESS output for each v\n",
        "        X         => n-by-(poly_degree+1) design matrix\n",
        "        W         => n-by-n diagonal weight matrix for each\n",
        "                     local regression\n",
        "        y         => yvals\n",
        "        b         => local regression coefficient estimates.\n",
        "                     b = `(X^T*W*X)^-1*X^T*W*y`. Note that `@`\n",
        "                     replaces `np.dot` in recent numpy versions.\n",
        "        local_est => response for local regression\n",
        "    \"\"\"\n",
        "    # Sort dataset by xvals.\n",
        "    all_data = sorted(zip(xvals, yvals), key=lambda x: x[0])\n",
        "    xvals, yvals = zip(*all_data)\n",
        "\n",
        "    locsDF = pd.DataFrame(\n",
        "                columns=[\n",
        "                  'loc','x','weights','v','y','raw_dists',\n",
        "                  'scale_factor','scaled_dists'\n",
        "                  ])\n",
        "    evalDF = pd.DataFrame(\n",
        "                columns=[\n",
        "                  'loc','est','b','v','g'\n",
        "                  ])\n",
        "\n",
        "    n = len(xvals)\n",
        "    m = n + 1\n",
        "    q = int(np.floor(n * alpha) if alpha <= 1.0 else n)\n",
        "    avg_interval = ((max(xvals)-min(xvals))/len(xvals))\n",
        "    v_lb = max(0,min(xvals)-(.5*avg_interval))\n",
        "    v_ub = (max(xvals)+(.5*avg_interval))\n",
        "    v = enumerate(np.linspace(start=v_lb, stop=v_ub, num=m), start=1)\n",
        "\n",
        "    # Generate design matrix based on poly_degree.\n",
        "    xcols = [np.ones_like(xvals)]\n",
        "    for j in range(1, (poly_degree + 1)):\n",
        "        xcols.append([i ** j for i in xvals])\n",
        "    X = np.vstack(xcols).T\n",
        "\n",
        "\n",
        "    for i in v:\n",
        "\n",
        "        iterpos = i[0]\n",
        "        iterval = i[1]\n",
        "\n",
        "        # Determine q-nearest xvals to iterval.\n",
        "        iterdists = sorted([(j, np.abs(j-iterval)) \\\n",
        "                           for j in xvals], key=lambda x: x[1])\n",
        "\n",
        "        _, raw_dists = zip(*iterdists)\n",
        "\n",
        "        # Scale local observations by qth-nearest raw_dist.\n",
        "        scale_fact = raw_dists[q-1]\n",
        "        scaled_dists = [(j[0],(j[1]/scale_fact)) for j in iterdists]\n",
        "        weights = [(j[0],((1-np.abs(j[1]**3))**3 \\\n",
        "                      if j[1]<=1 else 0)) for j in scaled_dists]\n",
        "\n",
        "        # Remove xvals from each tuple:\n",
        "        _, weights      = zip(*sorted(weights,     key=lambda x: x[0]))\n",
        "        _, raw_dists    = zip(*sorted(iterdists,   key=lambda x: x[0]))\n",
        "        _, scaled_dists = zip(*sorted(scaled_dists,key=lambda x: x[0]))\n",
        "\n",
        "        iterDF1 = pd.DataFrame({\n",
        "                    'loc'         :iterpos,\n",
        "                    'x'           :xvals,\n",
        "                    'v'           :iterval,\n",
        "                    'weights'     :weights,\n",
        "                    'y'           :yvals,\n",
        "                    'raw_dists'   :raw_dists,\n",
        "                    'scale_fact'  :scale_fact,\n",
        "                    'scaled_dists':scaled_dists\n",
        "                    })\n",
        "\n",
        "        locsDF    = pd.concat([locsDF, iterDF1])\n",
        "        W         = np.diag(weights)\n",
        "        y         = yvals\n",
        "        b         = np.linalg.inv(X.T @ W @ X) @ (X.T @ W @ y)\n",
        "        local_est = loc_eval(iterval, b)\n",
        "        iterDF2   = pd.DataFrame({\n",
        "                       'loc':[iterpos],\n",
        "                       'b'  :[b],\n",
        "                       'v'  :[iterval],\n",
        "                       'g'  :[local_est]\n",
        "                       })\n",
        "\n",
        "        evalDF = pd.concat([evalDF, iterDF2])\n",
        "\n",
        "    # Reset indicies for returned DataFrames.\n",
        "    locsDF.reset_index(inplace=True)\n",
        "    locsDF.drop('index', axis=1, inplace=True)\n",
        "    locsDF['est'] = 0; evalDF['est'] = 0\n",
        "    locsDF = locsDF[['loc','est','v','x','y','raw_dists',\n",
        "                     'scale_fact','scaled_dists','weights']]\n",
        "\n",
        "    # Reset index for evalDF.\n",
        "    evalDF.reset_index(inplace=True)\n",
        "    evalDF.drop('index', axis=1, inplace=True)\n",
        "    evalDF = evalDF[['loc','est', 'v', 'b', 'g']]\n",
        "\n",
        "    return(locsDF, evalDF)"
      ],
      "outputs": [],
      "execution_count": 6,
      "metadata": {
        "collapsed": true,
        "jupyter": {
          "source_hidden": false,
          "outputs_hidden": false
        },
        "nteract": {
          "transient": {
            "deleting": false
          }
        },
        "execution": {
          "iopub.status.busy": "2021-02-02T02:04:18.464Z",
          "iopub.execute_input": "2021-02-02T02:04:18.569Z",
          "iopub.status.idle": "2021-02-02T02:04:18.817Z",
          "shell.execute_reply": "2021-02-02T02:04:19.405Z"
        }
      }
    },
    {
      "cell_type": "code",
      "source": [
        "xvals = dataset['Open']\n",
        "yvals = dataset['Adj Close']"
      ],
      "outputs": [],
      "execution_count": 7,
      "metadata": {
        "collapsed": true,
        "jupyter": {
          "source_hidden": false,
          "outputs_hidden": false
        },
        "nteract": {
          "transient": {
            "deleting": false
          }
        },
        "execution": {
          "shell.execute_reply": "2021-02-02T02:04:19.424Z",
          "iopub.status.busy": "2021-02-02T02:04:18.866Z",
          "iopub.execute_input": "2021-02-02T02:04:18.902Z",
          "iopub.status.idle": "2021-02-02T02:04:19.079Z"
        }
      }
    },
    {
      "cell_type": "code",
      "source": [
        "regsDF, evalDF = loess(xvals, yvals, alpha=.6, poly_degree=1)"
      ],
      "outputs": [],
      "execution_count": 8,
      "metadata": {
        "collapsed": true,
        "jupyter": {
          "source_hidden": false,
          "outputs_hidden": false
        },
        "nteract": {
          "transient": {
            "deleting": false
          }
        },
        "execution": {
          "iopub.status.busy": "2021-02-02T02:04:19.125Z",
          "iopub.execute_input": "2021-02-02T02:04:19.152Z",
          "shell.execute_reply": "2021-02-02T02:26:48.096Z",
          "iopub.status.idle": "2021-02-02T02:26:47.761Z"
        }
      }
    },
    {
      "cell_type": "code",
      "source": [
        "l_x  = evalDF['v'].values\n",
        "l_y  = evalDF['g'].values\n",
        "\n",
        "# Generate x-y scatterplot with loess estimate overlaid.\n",
        "fig = plt.figure()\n",
        "ax1 = fig.add_subplot(111)\n",
        "ax1.grid(True)\n",
        "ax1.minorticks_on()\n",
        "ax1.scatter(xvals, yvals, label=\"Original Data\")\n",
        "ax1.plot(l_x, l_y, color='#FF0000', label=\"1st-degree Polynomial LOESS\")\n",
        "ax1.set_title(\"Linear LOESS Estimator\", loc=\"left\", fontsize=14)\n",
        "ax1.legend(loc=\"upper left\",\n",
        "           scatterpoints=1,\n",
        "           fontsize=11,\n",
        "           frameon=True,\n",
        "           fancybox=True,\n",
        "           facecolor=\"#FFFFFF\",\n",
        "           edgecolor=\"#000000\")\n",
        "plt.tight_layout()\n",
        "plt.show()"
      ],
      "outputs": [
        {
          "output_type": "display_data",
          "data": {
            "text/plain": "<Figure size 432x288 with 1 Axes>",
            "image/png": "[encoded data removed]"
          },
          "metadata": {
            "needs_background": "light"
          }
        }
      ],
      "execution_count": 9,
      "metadata": {
        "collapsed": true,
        "jupyter": {
          "source_hidden": false,
          "outputs_hidden": false
        },
        "nteract": {
          "transient": {
            "deleting": false
          }
        },
        "execution": {
          "iopub.status.busy": "2021-02-02T02:26:47.896Z",
          "iopub.execute_input": "2021-02-02T02:26:48.045Z",
          "iopub.status.idle": "2021-02-02T02:26:49.850Z",
          "shell.execute_reply": "2021-02-02T02:26:51.171Z"
        }
      }
    }
  ],
  "metadata": {
    "kernel_info": {
      "name": "python3"
    },
    "language_info": {
      "name": "python",
      "version": "3.6.5",
      "mimetype": "text/x-python",
      "codemirror_mode": {
        "name": "ipython",
        "version": 3
      },
      "pygments_lexer": "ipython3",
      "nbconvert_exporter": "python",
      "file_extension": ".py"
    },
    "kernelspec": {
      "name": "python3",
      "language": "python",
      "display_name": "Python 3"
    },
    "nteract": {
      "version": "0.28.0"
    }
  },
  "nbformat": 4,
  "nbformat_minor": 0
}